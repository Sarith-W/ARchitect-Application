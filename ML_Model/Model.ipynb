{
 "cells": [
  {
   "cell_type": "code",
   "execution_count": 1,
   "metadata": {
    "collapsed": true
   },
   "outputs": [],
   "source": [
    "from keras.preprocessing.image import ImageDataGenerator\n",
    "from keras.models import Sequential\n",
    "from keras.layers import Conv2D, MaxPooling2D, Flatten, Dense, Dropout\n",
    "\n"
   ]
  },
  {
   "cell_type": "code",
   "execution_count": 2,
   "outputs": [],
   "source": [
    "# Define dataset paths\n",
    "train_dir = '../ARchitect_Dataset/Train'\n",
    "val_dir = '../ARchitect_Dataset/Validate'\n",
    "test_dir = '../ARchitect_Dataset/Test'\n",
    "\n"
   ],
   "metadata": {
    "collapsed": false
   }
  },
  {
   "cell_type": "code",
   "execution_count": 3,
   "outputs": [],
   "source": [
    "# Define hyperparameters\n",
    "img_size = 150\n",
    "batch_size = 32\n",
    "epochs = 100\n",
    "dropout_rate = 0.5\n",
    "\n"
   ],
   "metadata": {
    "collapsed": false
   }
  },
  {
   "cell_type": "code",
   "execution_count": 4,
   "outputs": [
    {
     "name": "stdout",
     "output_type": "stream",
     "text": [
      "Found 1000 images belonging to 2 classes.\n",
      "Found 210 images belonging to 2 classes.\n",
      "Found 210 images belonging to 2 classes.\n"
     ]
    }
   ],
   "source": [
    "# Define data generators with data augmentation\n",
    "train_datagen = ImageDataGenerator(\n",
    "    rescale=1./255,\n",
    "    rotation_range=40,\n",
    "    width_shift_range=0.2,\n",
    "    height_shift_range=0.2,\n",
    "    shear_range=0.2,\n",
    "    zoom_range=0.2,\n",
    "    horizontal_flip=True,\n",
    "    fill_mode='nearest')\n",
    "\n",
    "val_datagen = ImageDataGenerator(rescale=1./255)\n",
    "\n",
    "test_datagen = ImageDataGenerator(rescale=1./255)\n",
    "\n",
    "train_generator = train_datagen.flow_from_directory(\n",
    "    train_dir,\n",
    "    target_size=(img_size, img_size),\n",
    "    batch_size=batch_size,\n",
    "    class_mode='binary')\n",
    "\n",
    "val_generator = val_datagen.flow_from_directory(\n",
    "    val_dir,\n",
    "    target_size=(img_size, img_size),\n",
    "    batch_size=batch_size,\n",
    "    class_mode='binary')\n",
    "\n",
    "test_generator = test_datagen.flow_from_directory(\n",
    "    test_dir,\n",
    "    target_size=(img_size, img_size),\n",
    "    batch_size=batch_size,\n",
    "    class_mode='binary')\n"
   ],
   "metadata": {
    "collapsed": false
   }
  },
  {
   "cell_type": "code",
   "execution_count": 5,
   "outputs": [],
   "source": [
    "\n",
    "# Define the model\n",
    "model = Sequential([\n",
    "    Conv2D(32, (3, 3), activation='relu', input_shape=(img_size, img_size, 3)),\n",
    "    MaxPooling2D(pool_size=(2, 2)),\n",
    "    Dropout(dropout_rate),\n",
    "    Conv2D(64, (3, 3), activation='relu'),\n",
    "    MaxPooling2D(pool_size=(2, 2)),\n",
    "    Dropout(dropout_rate),\n",
    "    Conv2D(128, (3, 3), activation='relu'),\n",
    "    MaxPooling2D(pool_size=(2, 2)),\n",
    "    Dropout(dropout_rate),\n",
    "    Flatten(),\n",
    "    Dense(512, activation='relu'),\n",
    "    Dropout(dropout_rate),\n",
    "    Dense(1, activation='sigmoid')\n",
    "])\n"
   ],
   "metadata": {
    "collapsed": false
   }
  },
  {
   "cell_type": "code",
   "execution_count": 6,
   "outputs": [],
   "source": [
    "\n",
    "# Compile the model\n",
    "model.compile(optimizer='rmsprop',\n",
    "              loss='binary_crossentropy',\n",
    "              metrics=['accuracy'])\n",
    "\n"
   ],
   "metadata": {
    "collapsed": false
   }
  },
  {
   "cell_type": "code",
   "execution_count": 7,
   "outputs": [
    {
     "name": "stdout",
     "output_type": "stream",
     "text": [
      "Epoch 1/100\n"
     ]
    },
    {
     "name": "stderr",
     "output_type": "stream",
     "text": [
      "2023-03-15 11:25:30.776017: W tensorflow/core/platform/profile_utils/cpu_utils.cc:128] Failed to get CPU frequency: 0 Hz\n"
     ]
    },
    {
     "name": "stdout",
     "output_type": "stream",
     "text": [
      "32/32 [==============================] - 14s 408ms/step - loss: 2.2894 - accuracy: 0.5070 - val_loss: 0.6928 - val_accuracy: 0.6095\n",
      "Epoch 2/100\n",
      "32/32 [==============================] - 14s 449ms/step - loss: 0.6936 - accuracy: 0.5290 - val_loss: 0.6918 - val_accuracy: 0.5000\n",
      "Epoch 3/100\n",
      "32/32 [==============================] - 13s 391ms/step - loss: 0.7021 - accuracy: 0.5640 - val_loss: 0.6889 - val_accuracy: 0.6619\n",
      "Epoch 4/100\n",
      "32/32 [==============================] - 13s 410ms/step - loss: 0.7160 - accuracy: 0.5700 - val_loss: 0.6592 - val_accuracy: 0.5095\n",
      "Epoch 5/100\n",
      "32/32 [==============================] - 13s 394ms/step - loss: 0.7447 - accuracy: 0.5790 - val_loss: 0.6690 - val_accuracy: 0.6333\n",
      "Epoch 6/100\n",
      "32/32 [==============================] - 12s 380ms/step - loss: 0.6630 - accuracy: 0.6270 - val_loss: 0.6517 - val_accuracy: 0.5857\n",
      "Epoch 7/100\n",
      "32/32 [==============================] - 13s 405ms/step - loss: 0.6620 - accuracy: 0.6300 - val_loss: 0.6385 - val_accuracy: 0.7095\n",
      "Epoch 8/100\n",
      "32/32 [==============================] - 13s 384ms/step - loss: 0.6561 - accuracy: 0.6220 - val_loss: 0.6483 - val_accuracy: 0.6000\n",
      "Epoch 9/100\n",
      "32/32 [==============================] - 13s 386ms/step - loss: 0.6617 - accuracy: 0.6480 - val_loss: 0.6480 - val_accuracy: 0.6762\n",
      "Epoch 10/100\n",
      "32/32 [==============================] - 18s 547ms/step - loss: 0.6476 - accuracy: 0.6540 - val_loss: 0.6556 - val_accuracy: 0.5286\n",
      "Epoch 11/100\n",
      "32/32 [==============================] - 24s 749ms/step - loss: 0.6903 - accuracy: 0.6370 - val_loss: 0.6452 - val_accuracy: 0.5714\n",
      "Epoch 12/100\n",
      "32/32 [==============================] - 18s 524ms/step - loss: 0.6535 - accuracy: 0.6410 - val_loss: 0.6455 - val_accuracy: 0.6286\n",
      "Epoch 13/100\n",
      "32/32 [==============================] - 14s 439ms/step - loss: 0.6419 - accuracy: 0.6410 - val_loss: 0.6500 - val_accuracy: 0.6238\n",
      "Epoch 14/100\n",
      "32/32 [==============================] - 14s 442ms/step - loss: 0.6503 - accuracy: 0.6230 - val_loss: 0.6259 - val_accuracy: 0.6952\n",
      "Epoch 15/100\n",
      "32/32 [==============================] - 14s 419ms/step - loss: 0.6558 - accuracy: 0.6250 - val_loss: 0.6362 - val_accuracy: 0.7000\n",
      "Epoch 16/100\n",
      "32/32 [==============================] - 13s 401ms/step - loss: 0.6370 - accuracy: 0.6460 - val_loss: 0.6194 - val_accuracy: 0.6810\n",
      "Epoch 17/100\n",
      "32/32 [==============================] - 12s 385ms/step - loss: 0.6499 - accuracy: 0.6540 - val_loss: 0.6228 - val_accuracy: 0.6714\n",
      "Epoch 18/100\n",
      "32/32 [==============================] - 13s 402ms/step - loss: 0.6410 - accuracy: 0.6450 - val_loss: 0.6260 - val_accuracy: 0.6619\n",
      "Epoch 19/100\n",
      "32/32 [==============================] - 21s 666ms/step - loss: 0.6451 - accuracy: 0.6270 - val_loss: 0.6349 - val_accuracy: 0.7048\n",
      "Epoch 20/100\n",
      "32/32 [==============================] - 14s 425ms/step - loss: 0.6294 - accuracy: 0.6560 - val_loss: 0.6218 - val_accuracy: 0.6238\n",
      "Epoch 21/100\n",
      "32/32 [==============================] - 14s 442ms/step - loss: 0.6385 - accuracy: 0.6690 - val_loss: 0.5965 - val_accuracy: 0.7190\n",
      "Epoch 22/100\n",
      "32/32 [==============================] - 14s 440ms/step - loss: 0.6339 - accuracy: 0.6650 - val_loss: 0.6343 - val_accuracy: 0.6000\n",
      "Epoch 23/100\n",
      "32/32 [==============================] - 15s 463ms/step - loss: 0.6289 - accuracy: 0.6720 - val_loss: 0.6001 - val_accuracy: 0.7048\n",
      "Epoch 24/100\n",
      "32/32 [==============================] - 14s 431ms/step - loss: 0.6318 - accuracy: 0.6840 - val_loss: 0.6295 - val_accuracy: 0.7095\n",
      "Epoch 25/100\n",
      "32/32 [==============================] - 14s 433ms/step - loss: 0.6061 - accuracy: 0.6930 - val_loss: 0.5873 - val_accuracy: 0.7286\n",
      "Epoch 26/100\n",
      "32/32 [==============================] - 14s 458ms/step - loss: 0.6073 - accuracy: 0.6750 - val_loss: 0.5943 - val_accuracy: 0.7143\n",
      "Epoch 27/100\n",
      "32/32 [==============================] - 14s 434ms/step - loss: 0.6065 - accuracy: 0.6690 - val_loss: 0.6024 - val_accuracy: 0.6571\n",
      "Epoch 28/100\n",
      "32/32 [==============================] - 13s 403ms/step - loss: 0.5957 - accuracy: 0.6950 - val_loss: 0.5918 - val_accuracy: 0.7000\n",
      "Epoch 29/100\n",
      "32/32 [==============================] - 13s 411ms/step - loss: 0.6195 - accuracy: 0.6730 - val_loss: 0.5559 - val_accuracy: 0.7381\n",
      "Epoch 30/100\n",
      "32/32 [==============================] - 13s 412ms/step - loss: 0.5968 - accuracy: 0.6840 - val_loss: 0.5899 - val_accuracy: 0.7381\n",
      "Epoch 31/100\n",
      "32/32 [==============================] - 14s 422ms/step - loss: 0.6044 - accuracy: 0.6860 - val_loss: 0.5485 - val_accuracy: 0.7429\n",
      "Epoch 32/100\n",
      "32/32 [==============================] - 14s 435ms/step - loss: 0.5880 - accuracy: 0.6870 - val_loss: 0.5754 - val_accuracy: 0.7381\n",
      "Epoch 33/100\n",
      "32/32 [==============================] - 13s 398ms/step - loss: 0.5918 - accuracy: 0.6950 - val_loss: 0.5607 - val_accuracy: 0.7381\n",
      "Epoch 34/100\n",
      "32/32 [==============================] - 13s 382ms/step - loss: 0.5760 - accuracy: 0.6950 - val_loss: 0.5751 - val_accuracy: 0.7381\n",
      "Epoch 35/100\n",
      "32/32 [==============================] - 13s 392ms/step - loss: 0.6037 - accuracy: 0.6920 - val_loss: 0.5435 - val_accuracy: 0.7619\n",
      "Epoch 36/100\n",
      "32/32 [==============================] - 13s 418ms/step - loss: 0.5861 - accuracy: 0.7020 - val_loss: 0.5540 - val_accuracy: 0.7190\n",
      "Epoch 37/100\n",
      "32/32 [==============================] - 13s 392ms/step - loss: 0.5810 - accuracy: 0.6990 - val_loss: 0.5342 - val_accuracy: 0.7095\n",
      "Epoch 38/100\n",
      "32/32 [==============================] - 13s 396ms/step - loss: 0.5816 - accuracy: 0.7050 - val_loss: 0.5300 - val_accuracy: 0.7524\n",
      "Epoch 39/100\n",
      "32/32 [==============================] - 13s 393ms/step - loss: 0.5770 - accuracy: 0.7130 - val_loss: 0.4888 - val_accuracy: 0.7667\n",
      "Epoch 40/100\n",
      "32/32 [==============================] - 13s 397ms/step - loss: 0.5871 - accuracy: 0.6920 - val_loss: 0.4848 - val_accuracy: 0.7619\n",
      "Epoch 41/100\n",
      "32/32 [==============================] - 13s 380ms/step - loss: 0.5851 - accuracy: 0.7010 - val_loss: 0.5188 - val_accuracy: 0.7714\n",
      "Epoch 42/100\n",
      "32/32 [==============================] - 13s 394ms/step - loss: 0.5893 - accuracy: 0.6900 - val_loss: 0.5299 - val_accuracy: 0.7857\n",
      "Epoch 43/100\n",
      "32/32 [==============================] - 13s 389ms/step - loss: 0.5793 - accuracy: 0.7210 - val_loss: 0.5008 - val_accuracy: 0.7905\n",
      "Epoch 44/100\n",
      "32/32 [==============================] - 13s 398ms/step - loss: 0.5934 - accuracy: 0.6860 - val_loss: 0.5893 - val_accuracy: 0.7000\n",
      "Epoch 45/100\n",
      "32/32 [==============================] - 13s 404ms/step - loss: 0.5739 - accuracy: 0.7060 - val_loss: 0.5079 - val_accuracy: 0.7571\n",
      "Epoch 46/100\n",
      "32/32 [==============================] - 13s 394ms/step - loss: 0.5896 - accuracy: 0.7040 - val_loss: 0.5452 - val_accuracy: 0.7286\n",
      "Epoch 47/100\n",
      "32/32 [==============================] - 14s 441ms/step - loss: 0.5874 - accuracy: 0.7000 - val_loss: 0.5654 - val_accuracy: 0.7381\n",
      "Epoch 48/100\n",
      "32/32 [==============================] - 18s 546ms/step - loss: 0.5569 - accuracy: 0.7350 - val_loss: 0.5245 - val_accuracy: 0.7667\n",
      "Epoch 49/100\n",
      "32/32 [==============================] - 14s 444ms/step - loss: 0.5818 - accuracy: 0.7080 - val_loss: 0.5116 - val_accuracy: 0.7810\n",
      "Epoch 50/100\n",
      "32/32 [==============================] - 13s 403ms/step - loss: 0.5899 - accuracy: 0.7010 - val_loss: 0.5101 - val_accuracy: 0.7762\n",
      "Epoch 51/100\n",
      "32/32 [==============================] - 13s 392ms/step - loss: 0.5759 - accuracy: 0.7090 - val_loss: 0.5142 - val_accuracy: 0.7524\n",
      "Epoch 52/100\n",
      "32/32 [==============================] - 13s 386ms/step - loss: 0.5870 - accuracy: 0.7170 - val_loss: 0.5048 - val_accuracy: 0.7714\n",
      "Epoch 53/100\n",
      "32/32 [==============================] - 15s 468ms/step - loss: 0.5663 - accuracy: 0.7210 - val_loss: 0.5056 - val_accuracy: 0.7381\n",
      "Epoch 54/100\n",
      "32/32 [==============================] - 13s 409ms/step - loss: 0.5652 - accuracy: 0.7120 - val_loss: 0.4848 - val_accuracy: 0.8095\n",
      "Epoch 55/100\n",
      "32/32 [==============================] - 13s 391ms/step - loss: 0.5597 - accuracy: 0.7280 - val_loss: 0.4893 - val_accuracy: 0.7762\n",
      "Epoch 56/100\n",
      "32/32 [==============================] - 13s 397ms/step - loss: 0.5668 - accuracy: 0.7090 - val_loss: 0.4978 - val_accuracy: 0.7762\n",
      "Epoch 57/100\n",
      "32/32 [==============================] - 13s 398ms/step - loss: 0.5900 - accuracy: 0.7210 - val_loss: 0.4802 - val_accuracy: 0.7905\n",
      "Epoch 58/100\n",
      "32/32 [==============================] - 13s 400ms/step - loss: 0.5546 - accuracy: 0.7120 - val_loss: 0.5136 - val_accuracy: 0.7476\n",
      "Epoch 59/100\n",
      "32/32 [==============================] - 13s 403ms/step - loss: 0.5573 - accuracy: 0.7250 - val_loss: 0.4980 - val_accuracy: 0.7619\n",
      "Epoch 60/100\n",
      "32/32 [==============================] - 13s 400ms/step - loss: 0.5537 - accuracy: 0.7140 - val_loss: 0.4681 - val_accuracy: 0.7667\n",
      "Epoch 61/100\n",
      "32/32 [==============================] - 14s 411ms/step - loss: 0.5599 - accuracy: 0.7170 - val_loss: 0.5250 - val_accuracy: 0.7476\n",
      "Epoch 62/100\n",
      "32/32 [==============================] - 13s 391ms/step - loss: 0.5532 - accuracy: 0.7280 - val_loss: 0.5042 - val_accuracy: 0.7667\n",
      "Epoch 63/100\n",
      "32/32 [==============================] - 13s 387ms/step - loss: 0.5522 - accuracy: 0.7220 - val_loss: 0.5226 - val_accuracy: 0.7667\n",
      "Epoch 64/100\n",
      "32/32 [==============================] - 13s 384ms/step - loss: 0.5809 - accuracy: 0.7040 - val_loss: 0.5144 - val_accuracy: 0.7714\n",
      "Epoch 65/100\n",
      "32/32 [==============================] - 13s 395ms/step - loss: 0.5587 - accuracy: 0.7270 - val_loss: 0.5333 - val_accuracy: 0.7857\n",
      "Epoch 66/100\n",
      "32/32 [==============================] - 13s 399ms/step - loss: 0.5298 - accuracy: 0.7330 - val_loss: 0.5254 - val_accuracy: 0.7429\n",
      "Epoch 67/100\n",
      "32/32 [==============================] - 13s 406ms/step - loss: 0.5655 - accuracy: 0.7230 - val_loss: 0.5197 - val_accuracy: 0.7381\n",
      "Epoch 68/100\n",
      "32/32 [==============================] - 19s 572ms/step - loss: 0.5491 - accuracy: 0.7240 - val_loss: 0.5458 - val_accuracy: 0.7381\n",
      "Epoch 69/100\n",
      "32/32 [==============================] - 14s 428ms/step - loss: 0.5619 - accuracy: 0.7220 - val_loss: 0.5586 - val_accuracy: 0.7048\n",
      "Epoch 70/100\n",
      "32/32 [==============================] - 13s 399ms/step - loss: 0.5358 - accuracy: 0.7410 - val_loss: 0.5220 - val_accuracy: 0.7524\n",
      "Epoch 71/100\n",
      "32/32 [==============================] - 13s 394ms/step - loss: 0.5201 - accuracy: 0.7480 - val_loss: 0.5321 - val_accuracy: 0.7238\n",
      "Epoch 72/100\n",
      "32/32 [==============================] - 14s 418ms/step - loss: 0.5732 - accuracy: 0.7040 - val_loss: 0.6089 - val_accuracy: 0.7143\n",
      "Epoch 73/100\n",
      "32/32 [==============================] - 14s 418ms/step - loss: 0.5687 - accuracy: 0.7210 - val_loss: 0.5054 - val_accuracy: 0.7619\n",
      "Epoch 74/100\n",
      "32/32 [==============================] - 14s 437ms/step - loss: 0.5338 - accuracy: 0.7330 - val_loss: 0.4660 - val_accuracy: 0.7952\n",
      "Epoch 75/100\n",
      "32/32 [==============================] - 15s 453ms/step - loss: 0.5479 - accuracy: 0.7150 - val_loss: 0.5018 - val_accuracy: 0.7429\n",
      "Epoch 76/100\n",
      "32/32 [==============================] - 15s 457ms/step - loss: 0.5563 - accuracy: 0.7290 - val_loss: 0.5305 - val_accuracy: 0.7714\n",
      "Epoch 77/100\n",
      "32/32 [==============================] - 15s 460ms/step - loss: 0.5361 - accuracy: 0.7370 - val_loss: 0.5104 - val_accuracy: 0.7429\n",
      "Epoch 78/100\n",
      "32/32 [==============================] - 14s 443ms/step - loss: 0.6378 - accuracy: 0.7400 - val_loss: 0.5397 - val_accuracy: 0.7381\n",
      "Epoch 79/100\n",
      "32/32 [==============================] - 14s 428ms/step - loss: 0.5399 - accuracy: 0.7490 - val_loss: 0.4986 - val_accuracy: 0.7905\n",
      "Epoch 80/100\n",
      "32/32 [==============================] - 13s 417ms/step - loss: 0.5872 - accuracy: 0.7110 - val_loss: 0.5110 - val_accuracy: 0.7762\n",
      "Epoch 81/100\n",
      "32/32 [==============================] - 13s 405ms/step - loss: 0.5453 - accuracy: 0.7540 - val_loss: 0.5027 - val_accuracy: 0.7571\n",
      "Epoch 82/100\n",
      "32/32 [==============================] - 13s 396ms/step - loss: 0.5409 - accuracy: 0.7320 - val_loss: 0.4922 - val_accuracy: 0.7762\n",
      "Epoch 83/100\n",
      "32/32 [==============================] - 13s 410ms/step - loss: 0.5482 - accuracy: 0.7310 - val_loss: 0.5135 - val_accuracy: 0.7571\n",
      "Epoch 84/100\n",
      "32/32 [==============================] - 13s 383ms/step - loss: 0.5422 - accuracy: 0.7330 - val_loss: 0.5258 - val_accuracy: 0.7524\n",
      "Epoch 85/100\n",
      "32/32 [==============================] - 13s 394ms/step - loss: 0.5605 - accuracy: 0.7280 - val_loss: 0.5189 - val_accuracy: 0.7714\n",
      "Epoch 86/100\n",
      "32/32 [==============================] - 13s 397ms/step - loss: 0.5475 - accuracy: 0.7320 - val_loss: 0.4964 - val_accuracy: 0.7762\n",
      "Epoch 87/100\n",
      "32/32 [==============================] - 19s 588ms/step - loss: 0.5327 - accuracy: 0.7380 - val_loss: 0.4950 - val_accuracy: 0.7524\n",
      "Epoch 88/100\n",
      "32/32 [==============================] - 14s 417ms/step - loss: 0.5560 - accuracy: 0.7120 - val_loss: 0.5461 - val_accuracy: 0.7286\n",
      "Epoch 89/100\n",
      "32/32 [==============================] - 13s 407ms/step - loss: 0.5088 - accuracy: 0.7500 - val_loss: 0.5317 - val_accuracy: 0.7286\n",
      "Epoch 90/100\n",
      "32/32 [==============================] - 13s 399ms/step - loss: 0.5323 - accuracy: 0.7350 - val_loss: 0.4962 - val_accuracy: 0.7619\n",
      "Epoch 91/100\n",
      "32/32 [==============================] - 13s 400ms/step - loss: 0.5378 - accuracy: 0.7280 - val_loss: 0.4968 - val_accuracy: 0.7714\n",
      "Epoch 92/100\n",
      "32/32 [==============================] - 13s 404ms/step - loss: 0.5301 - accuracy: 0.7560 - val_loss: 0.4904 - val_accuracy: 0.7476\n",
      "Epoch 93/100\n",
      "32/32 [==============================] - 13s 406ms/step - loss: 0.5372 - accuracy: 0.7350 - val_loss: 0.4878 - val_accuracy: 0.7857\n",
      "Epoch 94/100\n",
      "32/32 [==============================] - 14s 429ms/step - loss: 0.5345 - accuracy: 0.7340 - val_loss: 0.5120 - val_accuracy: 0.7619\n",
      "Epoch 95/100\n",
      "32/32 [==============================] - 13s 393ms/step - loss: 0.5193 - accuracy: 0.7440 - val_loss: 0.4597 - val_accuracy: 0.7810\n",
      "Epoch 96/100\n",
      "32/32 [==============================] - 13s 385ms/step - loss: 0.5441 - accuracy: 0.7260 - val_loss: 0.5678 - val_accuracy: 0.7381\n",
      "Epoch 97/100\n",
      "32/32 [==============================] - 13s 405ms/step - loss: 0.5362 - accuracy: 0.7500 - val_loss: 0.5416 - val_accuracy: 0.7714\n",
      "Epoch 98/100\n",
      "32/32 [==============================] - 15s 470ms/step - loss: 0.5892 - accuracy: 0.7190 - val_loss: 0.5097 - val_accuracy: 0.7714\n",
      "Epoch 99/100\n",
      "32/32 [==============================] - 13s 401ms/step - loss: 0.5356 - accuracy: 0.7450 - val_loss: 0.5129 - val_accuracy: 0.7857\n",
      "Epoch 100/100\n",
      "32/32 [==============================] - 13s 409ms/step - loss: 0.5302 - accuracy: 0.7500 - val_loss: 0.5137 - val_accuracy: 0.7810\n"
     ]
    }
   ],
   "source": [
    "# Train the model\n",
    "history = model.fit(\n",
    "    train_generator,\n",
    "    epochs=epochs,\n",
    "    validation_data=val_generator)\n",
    "\n"
   ],
   "metadata": {
    "collapsed": false
   }
  },
  {
   "cell_type": "code",
   "execution_count": 8,
   "outputs": [
    {
     "name": "stdout",
     "output_type": "stream",
     "text": [
      "7/7 [==============================] - 1s 143ms/step - loss: 0.4806 - accuracy: 0.8286\n",
      "Test accuracy: 0.8285714387893677\n"
     ]
    }
   ],
   "source": [
    "# Evaluate the model on test set\n",
    "test_loss, test_acc = model.evaluate(test_generator)\n",
    "print('Test accuracy:', test_acc)\n",
    "\n"
   ],
   "metadata": {
    "collapsed": false
   }
  },
  {
   "cell_type": "code",
   "execution_count": 9,
   "outputs": [],
   "source": [
    "# Save the model\n",
    "model.save('furniture_classification_model.h5')"
   ],
   "metadata": {
    "collapsed": false
   }
  },
  {
   "cell_type": "code",
   "execution_count": 7,
   "outputs": [
    {
     "name": "stdout",
     "output_type": "stream",
     "text": [
      "Found 2 images belonging to 2 classes.\n",
      "2/2 [==============================] - 0s 12ms/step\n",
      "Image 1 is messy with a probability of 0.8700495064258575\n",
      "Image 2 is organized with a probability of 0.6544863\n"
     ]
    }
   ],
   "source": [
    "import tensorflow as tf\n",
    "from keras.preprocessing.image import ImageDataGenerator\n",
    "\n",
    "test_dir = '/Users/sarithwijesundera/Downloads/test_imgs'\n",
    "\n",
    "test_datagen = ImageDataGenerator(rescale=1./255)\n",
    "\n",
    "test_generator = test_datagen.flow_from_directory(\n",
    "    test_dir,\n",
    "    target_size=(150, 150),\n",
    "    batch_size=1,\n",
    "    class_mode='binary')\n",
    "\n",
    "model = tf.keras.models.load_model('furniture_classification_model.h5')\n",
    "\n",
    "predictions = model.predict(test_generator)\n",
    "\n",
    "for i, prediction in enumerate(predictions):\n",
    "    if prediction > 0.5:\n",
    "        print(\"Image\", i+1, \"is organized with a probability of\", prediction[0])\n",
    "    else:\n",
    "        print(\"Image\", i+1, \"is messy with a probability of\", 1-prediction[0])\n"
   ],
   "metadata": {
    "collapsed": false
   }
  },
  {
   "cell_type": "code",
   "execution_count": 38,
   "outputs": [
    {
     "name": "stdout",
     "output_type": "stream",
     "text": [
      "1/1 [==============================] - 0s 57ms/step\n",
      "The image is messy with 66.17% confidence.\n"
     ]
    }
   ],
   "source": [
    "import tensorflow as tf\n",
    "import numpy as np\n",
    "from PIL import Image\n",
    "\n",
    "# Load the trained model\n",
    "model = tf.keras.models.load_model('furniture_classification_model.h5')\n",
    "\n",
    "# Define the image path to test\n",
    "img_path = '/Users/sarithwijesundera/Downloads/DSC_67051.jpg'\n",
    "\n",
    "# Preprocess the image\n",
    "img = Image.open(img_path).resize((150,150))\n",
    "img = np.array(img)/255.0\n",
    "img = img.reshape(1,150,150,3)\n",
    "\n",
    "# Use the model to predict the category of the image\n",
    "pred = model.predict(img)\n",
    "\n",
    "# Print the prediction result with the percentage\n",
    "if pred[0][0] < 0.5:\n",
    "    print(\"The image is messy with {:.2%} confidence.\".format(1-pred[0][0]))\n",
    "else:\n",
    "    print(\"The image is organized with {:.2%} confidence.\".format(pred[0][0]))\n"
   ],
   "metadata": {
    "collapsed": false
   }
  },
  {
   "cell_type": "code",
   "execution_count": null,
   "outputs": [],
   "source": [],
   "metadata": {
    "collapsed": false
   }
  }
 ],
 "metadata": {
  "kernelspec": {
   "display_name": "Python 3",
   "language": "python",
   "name": "python3"
  },
  "language_info": {
   "codemirror_mode": {
    "name": "ipython",
    "version": 2
   },
   "file_extension": ".py",
   "mimetype": "text/x-python",
   "name": "python",
   "nbconvert_exporter": "python",
   "pygments_lexer": "ipython2",
   "version": "2.7.6"
  }
 },
 "nbformat": 4,
 "nbformat_minor": 0
}
